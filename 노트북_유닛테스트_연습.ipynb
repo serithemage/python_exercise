{
  "nbformat": 4,
  "nbformat_minor": 0,
  "metadata": {
    "colab": {
      "name": "노트북 유닛테스트 연습.ipynb",
      "provenance": [],
      "include_colab_link": true
    },
    "kernelspec": {
      "name": "python3",
      "display_name": "Python 3"
    },
    "language_info": {
      "name": "python"
    }
  },
  "cells": [
    {
      "cell_type": "markdown",
      "metadata": {
        "id": "view-in-github",
        "colab_type": "text"
      },
      "source": [
        "<a href=\"https://colab.research.google.com/github/serithemage/python_exercise/blob/master/%EB%85%B8%ED%8A%B8%EB%B6%81_%EC%9C%A0%EB%8B%9B%ED%85%8C%EC%8A%A4%ED%8A%B8_%EC%97%B0%EC%8A%B5.ipynb\" target=\"_parent\"><img src=\"https://colab.research.google.com/assets/colab-badge.svg\" alt=\"Open In Colab\"/></a>"
      ]
    },
    {
      "cell_type": "markdown",
      "source": [
        "# Jupyter 노트북으로 코딩 테스트 연습하기\n",
        "\n",
        "코딩 테스트 공부를 할 때 TDD방식으로 테스트 케이스 작성을 먼저 하면서 알고리즘을 만드는 습관을 들이면 여러모로 좋습니다.\n",
        "\n",
        "여기서는 python에서 가장 인기있는 테스트 프레임워크인 unittest를 사용해 보겠습니다."
      ],
      "metadata": {
        "id": "wwa7EyN78twL"
      }
    },
    {
      "cell_type": "markdown",
      "source": [
        "이 예제에서는 맨 먼저 두 개의 정수를 받아 합을 반환하는 add함수를 만들어봅시다.\n",
        "우선 빈 함수를 만듭시다. "
      ],
      "metadata": {
        "id": "TWJDUSaV8y1M"
      }
    },
    {
      "cell_type": "code",
      "source": [
        "def add(a, b):\n",
        "  return 0"
      ],
      "metadata": {
        "id": "SnFAS95EpvHS"
      },
      "execution_count": 5,
      "outputs": []
    },
    {
      "cell_type": "markdown",
      "source": [
        "보통 이렇게 빈 함수는 입력값과 출력값만 정의해 놓습니다. 결과값은 타입만 맞으면 아무거나 넣을 수 있는데 테스트 케이스 작성시에 운 나쁘게 테스트를 통과하는 일이 없도록 주의 합시다."
      ],
      "metadata": {
        "id": "ndgwSU419HV1"
      }
    },
    {
      "cell_type": "markdown",
      "source": [
        "먼저 unittest를 import해 줍시다."
      ],
      "metadata": {
        "id": "U1XFHAJf9Xe9"
      }
    },
    {
      "cell_type": "code",
      "source": [
        "import unittest"
      ],
      "metadata": {
        "id": "IahxEN1c9bUA"
      },
      "execution_count": 6,
      "outputs": []
    },
    {
      "cell_type": "markdown",
      "source": [
        "이제 테스트 케이스를 작성해 봅시다."
      ],
      "metadata": {
        "id": "G-qbut4U-H8q"
      }
    },
    {
      "cell_type": "code",
      "source": [
        "class TestNotebook(unittest.TestCase):\n",
        "    \n",
        "    def test_add(self):\n",
        "        self.assertEqual(add(2, 2), 4)\n",
        "\n"
      ],
      "metadata": {
        "id": "cB3O0abntE29"
      },
      "execution_count": 7,
      "outputs": []
    },
    {
      "cell_type": "markdown",
      "source": [
        "이제 테스트 케이스를 실행해 봅시다."
      ],
      "metadata": {
        "id": "LnQrV_Si9h8X"
      }
    },
    {
      "cell_type": "code",
      "source": [
        "unittest.main(argv=[''], verbosity=2, exit=False)"
      ],
      "metadata": {
        "id": "yr7nw_kEtQnN",
        "outputId": "304ccd0a-7a58-40d7-de17-f5a68f9cc694",
        "colab": {
          "base_uri": "https://localhost:8080/"
        }
      },
      "execution_count": 8,
      "outputs": [
        {
          "output_type": "stream",
          "name": "stderr",
          "text": [
            "test_add (__main__.TestNotebook) ... FAIL\n",
            "\n",
            "======================================================================\n",
            "FAIL: test_add (__main__.TestNotebook)\n",
            "----------------------------------------------------------------------\n",
            "Traceback (most recent call last):\n",
            "  File \"<ipython-input-7-41820c1c8687>\", line 4, in test_add\n",
            "    self.assertEqual(add(2, 2), 4)\n",
            "AssertionError: 0 != 4\n",
            "\n",
            "----------------------------------------------------------------------\n",
            "Ran 1 test in 0.013s\n",
            "\n",
            "FAILED (failures=1)\n"
          ]
        },
        {
          "output_type": "execute_result",
          "data": {
            "text/plain": [
              "<unittest.main.TestProgram at 0x7f7da161b9d0>"
            ]
          },
          "metadata": {},
          "execution_count": 8
        }
      ]
    },
    {
      "cell_type": "markdown",
      "source": [
        "예상대로 FAILED라는 결과가 나왔습니다.\n",
        "이제 함수를 다시 작성해 봅시다."
      ],
      "metadata": {
        "id": "4BDDAXm3-SAJ"
      }
    },
    {
      "cell_type": "code",
      "source": [
        "def add(a, b):\n",
        "  return a + b"
      ],
      "metadata": {
        "id": "i3_sJZfv-Peg"
      },
      "execution_count": 14,
      "outputs": []
    },
    {
      "cell_type": "markdown",
      "source": [
        "그리고 다시 테스트도 돌려봅시다."
      ],
      "metadata": {
        "id": "bMTOlhwb-oVy"
      }
    },
    {
      "cell_type": "code",
      "source": [
        "unittest.main(argv=[''], verbosity=2, exit=False)"
      ],
      "metadata": {
        "id": "kXQFcXDk-bpx",
        "outputId": "5fd06f2e-7278-4296-d777-cf0ebe1c5946",
        "colab": {
          "base_uri": "https://localhost:8080/"
        }
      },
      "execution_count": 15,
      "outputs": [
        {
          "output_type": "stream",
          "name": "stderr",
          "text": [
            "test_add (__main__.TestNotebook) ... ok\n",
            "\n",
            "----------------------------------------------------------------------\n",
            "Ran 1 test in 0.004s\n",
            "\n",
            "OK\n"
          ]
        },
        {
          "output_type": "execute_result",
          "data": {
            "text/plain": [
              "<unittest.main.TestProgram at 0x7f7d9612fd10>"
            ]
          },
          "metadata": {},
          "execution_count": 15
        }
      ]
    },
    {
      "cell_type": "markdown",
      "source": [
        "이번엔 성공했군요! 여기서는 jupyter notebook에서 테스트를 실행시키지만 실제 업무에서는 CI/CD 도구로 작성된 전체 테스트를 실행시켜줍니다. \n",
        "\n",
        "아래 블로그 글에 Github Actions를 이용해 테스트를 PR마다 돌리고 결과를 자동으로 게시하는 방법이 잘 정리되어 있으니 꼭 한번 읽어보시기 바랍니다.\n",
        "\n",
        "[How to write good quality Python code with GitHub Actions](https://wkrzywiec.medium.com/how-to-write-good-quality-python-code-with-github-actions-2f635a2ab09a)"
      ],
      "metadata": {
        "id": "W0ARWARe-8zJ"
      }
    },
    {
      "cell_type": "code",
      "source": [
        ""
      ],
      "metadata": {
        "id": "8cFgq5ilA4bM"
      },
      "execution_count": null,
      "outputs": []
    }
  ]
}